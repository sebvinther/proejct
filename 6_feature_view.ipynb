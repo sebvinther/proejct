{
 "cells": [
  {
   "cell_type": "code",
   "execution_count": 2,
   "metadata": {},
   "outputs": [
    {
     "name": "stdout",
     "output_type": "stream",
     "text": [
      "Connected. Call `.close()` to terminate connection gracefully.\n",
      "Copy your Api Key (first register/login): https://c.app.hopsworks.ai/account/api/generated\n",
      "Connected. Call `.close()` to terminate connection gracefully.\n",
      "\n",
      "Logged in to project, explore it here https://c.app.hopsworks.ai:443/p/564374\n",
      "Connected. Call `.close()` to terminate connection gracefully.\n",
      "         date  1. open  2. high    3. low  4. close    5. volume ticker\n",
      "0  2024-08-02   103.76   108.72  101.3700    107.27  482027464.0   NVDA\n",
      "1  2024-08-01   117.53   120.16  106.8104    109.21  523462326.0   NVDA\n",
      "2  2024-07-31   112.90   118.34  110.8800    117.02  473174182.0   NVDA\n",
      "3  2024-07-30   111.52   111.99  102.5400    103.73  486833274.0   NVDA\n",
      "4  2024-07-29   113.69   116.28  111.3000    111.59  248152068.0   NVDA\n",
      "Index(['date', 'open', 'high', 'low', 'close', 'volume', 'ticker'], dtype='object')\n",
      "2024-08-05 20:10:11,984 WARNING: DeprecationWarning: Providing event_time as a single-element list is deprecated and will be dropped in future versions. Provide the feature_name string instead.\n",
      "\n",
      "Feature Group created successfully, explore it at \n",
      "https://c.app.hopsworks.ai:443/p/564374/fs/560197/fg/1074507\n"
     ]
    },
    {
     "data": {
      "application/vnd.jupyter.widget-view+json": {
       "model_id": "4ad10d88d8c94679b93f02270dd1ffbb",
       "version_major": 2,
       "version_minor": 0
      },
      "text/plain": [
       "Uploading Dataframe: 0.00% |          | Rows 0/6228 | Elapsed Time: 00:00 | Remaining Time: ?"
      ]
     },
     "metadata": {},
     "output_type": "display_data"
    },
    {
     "name": "stdout",
     "output_type": "stream",
     "text": [
      "Launching job: nvidia_stock_5_offline_fg_materialization\n",
      "Job started successfully, you can follow the progress at \n",
      "https://c.app.hopsworks.ai/p/564374/jobs/named/nvidia_stock_5_offline_fg_materialization/executions\n",
      "2024-08-05 20:10:22,102 WARNING: DeprecationWarning: Providing event_time as a single-element list is deprecated and will be dropped in future versions. Provide the feature_name string instead.\n",
      "\n",
      "Feature Group created successfully, explore it at \n",
      "https://c.app.hopsworks.ai:443/p/564374/fs/560197/fg/1073488\n"
     ]
    },
    {
     "data": {
      "application/vnd.jupyter.widget-view+json": {
       "model_id": "3e34eb2d11cd420b8133a695f34c557b",
       "version_major": 2,
       "version_minor": 0
      },
      "text/plain": [
       "Uploading Dataframe: 0.00% |          | Rows 0/66 | Elapsed Time: 00:00 | Remaining Time: ?"
      ]
     },
     "metadata": {},
     "output_type": "display_data"
    },
    {
     "name": "stdout",
     "output_type": "stream",
     "text": [
      "Launching job: news_sentiment_updated_5_offline_fg_materialization\n",
      "Job started successfully, you can follow the progress at \n",
      "https://c.app.hopsworks.ai/p/564374/jobs/named/news_sentiment_updated_5_offline_fg_materialization/executions\n"
     ]
    },
    {
     "data": {
      "text/plain": [
       "True"
      ]
     },
     "execution_count": 2,
     "metadata": {},
     "output_type": "execute_result"
    }
   ],
   "source": [
    "# Importing necessary libraries\n",
    "import pandas as pd               \n",
    "import numpy as np                \n",
    "import matplotlib.pyplot as plt   \n",
    "import os                         \n",
    "import joblib                     \n",
    "import hopsworks                  \n",
    "\n",
    "from SML.feature_pipeline import nvidia_fg, news_sentiment_fg   #Loading in the nvidia_fg & news sentiment fg\n",
    "#Making the notebook able to fetch from the .env file\n",
    "from dotenv import load_dotenv\n",
    "import os\n",
    "\n",
    "load_dotenv()\n"
   ]
  },
  {
   "cell_type": "code",
   "execution_count": 3,
   "metadata": {},
   "outputs": [
    {
     "name": "stdout",
     "output_type": "stream",
     "text": [
      "Connection closed.\n",
      "Connected. Call `.close()` to terminate connection gracefully.\n",
      "\n",
      "Logged in to project, explore it here https://c.app.hopsworks.ai:443/p/564374\n",
      "Connected. Call `.close()` to terminate connection gracefully.\n"
     ]
    }
   ],
   "source": [
    "#Getting connected to hopsworks \n",
    "api_key = os.environ.get('hopsworks_api') \n",
    "project = hopsworks.login(api_key_value=api_key) \n",
    "fs = project.get_feature_store()"
   ]
  },
  {
   "cell_type": "code",
   "execution_count": 4,
   "metadata": {},
   "outputs": [],
   "source": [
    "#Defining the function to create feature view\n",
    "\n",
    "def create_stocks_feature_view(fs, version):\n",
    "\n",
    "    # Loading in the feature groups\n",
    "    nvidia_fg = fs.get_feature_group('nvidia_stock', version=1)\n",
    "    news_sentiment_fg = fs.get_feature_group('news_sentiment_updated', version=1)\n",
    "\n",
    "    # Defining the query\n",
    "    ds_query = nvidia_fg.select(['date', 'open', 'ticker'])\\\n",
    "        .join(news_sentiment_fg.select(['sentiment']))\n",
    "\n",
    "    # Creating the feature view\n",
    "    feature_view = fs.create_feature_view(\n",
    "        name='nvidia_stocks_fv',\n",
    "        query=ds_query,\n",
    "        labels=['open']\n",
    "    )\n",
    "\n",
    "    return feature_view, nvidia_fg"
   ]
  },
  {
   "cell_type": "code",
   "execution_count": 5,
   "metadata": {},
   "outputs": [
    {
     "name": "stdout",
     "output_type": "stream",
     "text": [
      "Feature view created successfully, explore it at \n",
      "https://c.app.hopsworks.ai:443/p/564374/fs/560197/fv/nvidia_stocks_fv/version/1\n"
     ]
    }
   ],
   "source": [
    "#Creating the feature view\n",
    "try:\n",
    "    feature_view = fs.get_feature_view(\"nvidia_stocks_fv\", version=1)\n",
    "    nvidia_fg = fs.get_feature_group('nvidia_stock', version=1)\n",
    "except:\n",
    "    feature_view, nvidia_fg = create_stocks_feature_view(fs, 1)"
   ]
  },
  {
   "cell_type": "code",
   "execution_count": null,
   "metadata": {},
   "outputs": [],
   "source": [
    "#Defining a function to get fixed data from the feature view\n",
    "def fix_data_from_feature_view(df,start_date,end_date):\n",
    "    df = df.sort_values(\"date\")\n",
    "    df = df.reset_index()\n",
    "    df = df.drop(columns=[\"index\"])\n",
    "\n",
    "    # Create a boolean mask for rows that fall within the date range\n",
    "    mask = (pd.to_datetime(df['date']) >= pd.to_datetime(start_date)) & (pd.to_datetime(df['date']) <= pd.to_datetime(end_date))\n",
    "    len_df = np.shape(df)\n",
    "    df = df[mask] # Use the boolean mask to filter the DataFrame\n",
    "    print('From shape {} to {} after cropping to given date range: {} to {}'.format(len_df,np.shape(df),start_date,end_date))\n",
    "\n",
    "    # Get rid off all non-business days\n",
    "    isBusinessDay, is_open = extract_business_day(start_date,end_date)\n",
    "    is_open = [not i for i in is_open] # Invert the mask to be able to drop all non-buisiness days\n",
    "\n",
    "    filtered_df = df.drop(df[is_open].index) # Use the mask to filter the rows of the DataFrame\n",
    "    print('From shape {} to {} after removing non-business days'.format(np.shape(df),np.shape(filtered_df)))\n",
    "    print(filtered_df)\n",
    "    \n",
    "    return filtered_df"
   ]
  }
 ],
 "metadata": {
  "kernelspec": {
   "display_name": "Python 3",
   "language": "python",
   "name": "python3"
  },
  "language_info": {
   "codemirror_mode": {
    "name": "ipython",
    "version": 3
   },
   "file_extension": ".py",
   "mimetype": "text/x-python",
   "name": "python",
   "nbconvert_exporter": "python",
   "pygments_lexer": "ipython3",
   "version": "3.11.9"
  }
 },
 "nbformat": 4,
 "nbformat_minor": 2
}
