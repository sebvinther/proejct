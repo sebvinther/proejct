{
 "cells": [
  {
   "cell_type": "code",
   "execution_count": null,
   "metadata": {},
   "outputs": [],
   "source": [
    "#Importing necessary librabries\n",
    "from dotenv import load_dotenv\n",
    "import os \n",
    "from alpha_vantage.timeseries import TimeSeries\n",
    "import pandas as pd\n",
    "import hopsworks\n",
    "import re \n",
    "import modal \n",
    "#prepocessing\n",
    "import requests\n",
    "import pandas as pd\n",
    "import json\n",
    "#import pandas_market_calendars as mcal\n",
    "import datetime\n",
    "import numpy as np\n",
    "from datetime import timedelta\n",
    "load_dotenv()   #Making the .env file work"
   ]
  },
  {
   "cell_type": "code",
   "execution_count": null,
   "metadata": {},
   "outputs": [],
   "source": [
    "#Setting up API key to being able to fetch stocks from Alpha Vantage\n",
    "\n",
    "api_key = os.environ.get('stocks_api') \n",
    "ts = TimeSeries(key=api_key, output_format='pandas')\n",
    "\n",
    "#Defining a function to fetch stocks\n",
    "\n",
    "def fetch_stock_prices(symbol):\n",
    "    # Fetch daily adjusted stock prices; adjust the symbol as needed\n",
    "    data, meta_data = ts.get_daily(symbol=symbol, outputsize='full')\n",
    "    \n",
    "    # Add a new column named 'ticker' and fill it with the ticker name\n",
    "    data['ticker'] = symbol\n",
    "    \n",
    "    return data\n",
    "\n",
    "#Usage\n",
    "symbol = 'TSLA'\n",
    "stock_data = fetch_stock_prices(symbol)\n",
    "print(stock_data.head())"
   ]
  },
  {
   "cell_type": "code",
   "execution_count": null,
   "metadata": {},
   "outputs": [],
   "source": [
    "# Defining the file path and name\n",
    "file_path = 'TSLA_stock_price.csv'  \n",
    "\n",
    "# Saving the DataFrame to CSV\n",
    "stock_data.to_csv(file_path)\n",
    "\n",
    "print(f\"Data saved to {file_path}\")"
   ]
  }
 ],
 "metadata": {
  "language_info": {
   "name": "python"
  }
 },
 "nbformat": 4,
 "nbformat_minor": 2
}
