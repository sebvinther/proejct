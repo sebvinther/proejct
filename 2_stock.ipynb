{
 "cells": [
  {
   "cell_type": "code",
   "execution_count": 1,
   "metadata": {},
   "outputs": [
    {
     "data": {
      "text/plain": [
       "True"
      ]
     },
     "execution_count": 1,
     "metadata": {},
     "output_type": "execute_result"
    }
   ],
   "source": [
    "#Importing necessary librabries\n",
    "from dotenv import load_dotenv\n",
    "import os \n",
    "from alpha_vantage.timeseries import TimeSeries\n",
    "import pandas as pd\n",
    "import hopsworks\n",
    "import re \n",
    "import modal \n",
    "#prepocessing\n",
    "import requests\n",
    "import pandas as pd\n",
    "import json\n",
    "#import pandas_market_calendars as mcal\n",
    "import datetime\n",
    "import numpy as np\n",
    "from datetime import timedelta\n",
    "load_dotenv()   #Making the .env file work"
   ]
  },
  {
   "cell_type": "code",
   "execution_count": 2,
   "metadata": {},
   "outputs": [
    {
     "name": "stdout",
     "output_type": "stream",
     "text": [
      "            1. open  2. high    3. low  4. close    5. volume ticker\n",
      "date                                                                \n",
      "2024-08-02   103.76   108.72  101.3700    107.27  482027464.0   NVDA\n",
      "2024-08-01   117.53   120.16  106.8104    109.21  523462326.0   NVDA\n",
      "2024-07-31   112.90   118.34  110.8800    117.02  473174182.0   NVDA\n",
      "2024-07-30   111.52   111.99  102.5400    103.73  486833274.0   NVDA\n",
      "2024-07-29   113.69   116.28  111.3000    111.59  248152068.0   NVDA\n"
     ]
    }
   ],
   "source": [
    "#Setting up API key to being able to fetch stocks from Alpha Vantage\n",
    "\n",
    "api_key = os.environ.get('STOCK_API') \n",
    "ts = TimeSeries(key=api_key, output_format='pandas')\n",
    "\n",
    "#Defining a function to fetch stocks\n",
    "\n",
    "def fetch_stock_prices(symbol):\n",
    "    # Fetch daily adjusted stock prices; adjust the symbol as needed\n",
    "    data, meta_data = ts.get_daily(symbol=symbol, outputsize='full')\n",
    "    \n",
    "    # Add a new column named 'ticker' and fill it with the ticker name\n",
    "    data['ticker'] = symbol\n",
    "    \n",
    "    return data\n",
    "\n",
    "#Usage\n",
    "symbol = 'NVDA'\n",
    "stock_data = fetch_stock_prices(symbol)\n",
    "print(stock_data.head())"
   ]
  },
  {
   "cell_type": "code",
   "execution_count": 3,
   "metadata": {},
   "outputs": [
    {
     "name": "stdout",
     "output_type": "stream",
     "text": [
      "Data saved to NVDA_stock_prices.csv\n"
     ]
    }
   ],
   "source": [
    "# Defining the file path and name\n",
    "file_path = 'NVDA_stock_prices.csv'  \n",
    "\n",
    "# Saving the DataFrame to CSV\n",
    "stock_data.to_csv(file_path)\n",
    "\n",
    "print(f\"Data saved to {file_path}\")"
   ]
  }
 ],
 "metadata": {
  "kernelspec": {
   "display_name": "Python 3",
   "language": "python",
   "name": "python3"
  },
  "language_info": {
   "codemirror_mode": {
    "name": "ipython",
    "version": 3
   },
   "file_extension": ".py",
   "mimetype": "text/x-python",
   "name": "python",
   "nbconvert_exporter": "python",
   "pygments_lexer": "ipython3",
   "version": "3.11.9"
  }
 },
 "nbformat": 4,
 "nbformat_minor": 2
}
