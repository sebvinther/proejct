{
 "cells": [
  {
   "cell_type": "code",
   "execution_count": null,
   "metadata": {},
   "outputs": [],
   "source": [
    "# Import necessary libraries\n",
    "import pandas as pd               # For data manipulation using DataFrames\n",
    "import numpy as np                # For numerical operations\n",
    "import matplotlib.pyplot as plt   # For data visualization\n",
    "import os                         # For operating system-related tasks\n",
    "import joblib                     # For saving and loading models\n",
    "import hopsworks                  # For getting access to hopsworks\n",
    "import re\n",
    "\n",
    "# Import specific modules from scikit-learn\n",
    "from sklearn.preprocessing import StandardScaler, OneHotEncoder   # For data preprocessing\n",
    "from sklearn.metrics import accuracy_score                        # For evaluating model accuracy\n",
    "\n",
    "from dotenv import load_dotenv\n",
    "import os\n",
    "load_dotenv()\n",
    "\n",
    "#Connecting to hopsworks\n",
    "api_key = os.environ.get('hopsworks_api')\n",
    "project = hopsworks.login(api_key_value=api_key)\n",
    "fs = project.get_feature_store()"
   ]
  },
  {
   "cell_type": "code",
   "execution_count": null,
   "metadata": {},
   "outputs": [],
   "source": [
    "# Load and display the data from CSV to confirm\n",
    "tsla_df = pd.read_csv('TSLA_stock_price.csv')\n",
    "print(tsla_df.head())    "
   ]
  },
  {
   "cell_type": "code",
   "execution_count": null,
   "metadata": {},
   "outputs": [],
   "source": [
    "#Defining a function to clean the column names\n",
    "def clean_column_name(name):\n",
    "    # Remove all non-letter characters\n",
    "    cleaned_name = re.sub(r'[^a-zA-Z]', '', name)\n",
    "    return cleaned_name"
   ]
  },
  {
   "cell_type": "code",
   "execution_count": null,
   "metadata": {},
   "outputs": [],
   "source": [
    "tsla_df\n"
   ]
  },
  {
   "cell_type": "code",
   "execution_count": null,
   "metadata": {},
   "outputs": [],
   "source": [
    "# Cleaning up column names for 'tsla_df'\n",
    "tsla_df.columns = [clean_column_name(col) for col in tsla_df.columns]\n",
    "print(tsla_df.columns)"
   ]
  },
  {
   "cell_type": "code",
   "execution_count": null,
   "metadata": {},
   "outputs": [],
   "source": [
    "# Converting the \"date\" column to timestamp\n",
    "tsla_df['date'] = pd.to_datetime(tsla_df['date'])"
   ]
  },
  {
   "cell_type": "code",
   "execution_count": null,
   "metadata": {},
   "outputs": [],
   "source": [
    "# Defining the stocks feature group\n",
    "tesla_fg = fs.get_or_create_feature_group(\n",
    "    name=\"tesla_stock\",\n",
    "    description=\"Tesla stock dataset from alpha vantage\",\n",
    "    version=5,\n",
    "    primary_key=[\"ticker\"],\n",
    "    event_time=['date'],\n",
    "    online_enabled=False,\n",
    ")"
   ]
  },
  {
   "cell_type": "code",
   "execution_count": null,
   "metadata": {},
   "outputs": [],
   "source": [
    "#Inserting the stock data into the stocks feature group\n",
    "tesla_fg.insert(tsla_df, write_options={\"wait_for_job\" : False})"
   ]
  },
  {
   "cell_type": "code",
   "execution_count": null,
   "metadata": {},
   "outputs": [],
   "source": [
    "#Collecting news df\n",
    "news_df = pd.read_csv('news_articles_ema.csv')"
   ]
  },
  {
   "cell_type": "code",
   "execution_count": null,
   "metadata": {},
   "outputs": [],
   "source": [
    "#Dropping exp mean 7 days\n",
    "news_df_updated = news_df.drop(columns=['exp_mean_7_days'])"
   ]
  },
  {
   "cell_type": "code",
   "execution_count": null,
   "metadata": {},
   "outputs": [],
   "source": [
    "#Updating date to datetime\n",
    "news_df_updated['date'] = pd.to_datetime(news_df_updated['date'])"
   ]
  },
  {
   "cell_type": "code",
   "execution_count": null,
   "metadata": {},
   "outputs": [],
   "source": [
    "#Defining the news feature group\n",
    "news_sentiment_fg = fs.get_or_create_feature_group(\n",
    "    name='news_sentiment_updated',\n",
    "    description='News sentiment from Polygon',\n",
    "    version=5,\n",
    "    primary_key=['ticker'],\n",
    "    event_time=['date'],\n",
    "    online_enabled=False,\n",
    ")"
   ]
  },
  {
   "cell_type": "code",
   "execution_count": null,
   "metadata": {},
   "outputs": [],
   "source": [
    "#Inserting the news data into the news feature group\n",
    "news_sentiment_fg.insert(news_df_updated)"
   ]
  }
 ],
 "metadata": {
  "language_info": {
   "name": "python"
  }
 },
 "nbformat": 4,
 "nbformat_minor": 2
}
