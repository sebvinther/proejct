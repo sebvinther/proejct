{
 "cells": [
  {
   "cell_type": "code",
   "execution_count": 1,
   "metadata": {},
   "outputs": [
    {
     "name": "stdout",
     "output_type": "stream",
     "text": [
      "Connected. Call `.close()` to terminate connection gracefully.\n",
      "\n",
      "Logged in to project, explore it here https://c.app.hopsworks.ai:443/p/564374\n",
      "Connected. Call `.close()` to terminate connection gracefully.\n"
     ]
    }
   ],
   "source": [
    "# Import necessary libraries\n",
    "import pandas as pd               # For data manipulation using DataFrames\n",
    "import numpy as np                # For numerical operations\n",
    "import matplotlib.pyplot as plt   # For data visualization\n",
    "import os                         # For operating system-related tasks\n",
    "import joblib                     # For saving and loading models\n",
    "import hopsworks                  # For getting access to hopsworks\n",
    "import re\n",
    "\n",
    "# Import specific modules from scikit-learn\n",
    "from sklearn.preprocessing import StandardScaler, OneHotEncoder   # For data preprocessing\n",
    "from sklearn.metrics import accuracy_score                        # For evaluating model accuracy\n",
    "\n",
    "from dotenv import load_dotenv\n",
    "import os\n",
    "load_dotenv()\n",
    "\n",
    "#Connecting to hopsworks\n",
    "api_key = os.environ.get('hopsworks_api')\n",
    "project = hopsworks.login(api_key_value=api_key)\n",
    "fs = project.get_feature_store()"
   ]
  },
  {
   "cell_type": "code",
   "execution_count": 2,
   "metadata": {},
   "outputs": [
    {
     "name": "stdout",
     "output_type": "stream",
     "text": [
      "         date  1. open  2. high    3. low  4. close    5. volume ticker\n",
      "0  2024-08-02   103.76   108.72  101.3700    107.27  482027464.0   NVDA\n",
      "1  2024-08-01   117.53   120.16  106.8104    109.21  523462326.0   NVDA\n",
      "2  2024-07-31   112.90   118.34  110.8800    117.02  473174182.0   NVDA\n",
      "3  2024-07-30   111.52   111.99  102.5400    103.73  486833274.0   NVDA\n",
      "4  2024-07-29   113.69   116.28  111.3000    111.59  248152068.0   NVDA\n"
     ]
    }
   ],
   "source": [
    "# Load and display the data from CSV to confirm\n",
    "nvda_df = pd.read_csv('NVDA_stock_prices.csv')\n",
    "print(nvda_df.head())    "
   ]
  },
  {
   "cell_type": "code",
   "execution_count": 3,
   "metadata": {},
   "outputs": [],
   "source": [
    "#Defining a function to clean the column names\n",
    "def clean_column_name(name):\n",
    "    # Remove all non-letter characters\n",
    "    cleaned_name = re.sub(r'[^a-zA-Z]', '', name)\n",
    "    return cleaned_name"
   ]
  },
  {
   "cell_type": "code",
   "execution_count": 4,
   "metadata": {},
   "outputs": [
    {
     "data": {
      "text/html": [
       "<div>\n",
       "<style scoped>\n",
       "    .dataframe tbody tr th:only-of-type {\n",
       "        vertical-align: middle;\n",
       "    }\n",
       "\n",
       "    .dataframe tbody tr th {\n",
       "        vertical-align: top;\n",
       "    }\n",
       "\n",
       "    .dataframe thead th {\n",
       "        text-align: right;\n",
       "    }\n",
       "</style>\n",
       "<table border=\"1\" class=\"dataframe\">\n",
       "  <thead>\n",
       "    <tr style=\"text-align: right;\">\n",
       "      <th></th>\n",
       "      <th>date</th>\n",
       "      <th>1. open</th>\n",
       "      <th>2. high</th>\n",
       "      <th>3. low</th>\n",
       "      <th>4. close</th>\n",
       "      <th>5. volume</th>\n",
       "      <th>ticker</th>\n",
       "    </tr>\n",
       "  </thead>\n",
       "  <tbody>\n",
       "    <tr>\n",
       "      <th>0</th>\n",
       "      <td>2024-08-02</td>\n",
       "      <td>103.76</td>\n",
       "      <td>108.72</td>\n",
       "      <td>101.3700</td>\n",
       "      <td>107.27</td>\n",
       "      <td>482027464.0</td>\n",
       "      <td>NVDA</td>\n",
       "    </tr>\n",
       "    <tr>\n",
       "      <th>1</th>\n",
       "      <td>2024-08-01</td>\n",
       "      <td>117.53</td>\n",
       "      <td>120.16</td>\n",
       "      <td>106.8104</td>\n",
       "      <td>109.21</td>\n",
       "      <td>523462326.0</td>\n",
       "      <td>NVDA</td>\n",
       "    </tr>\n",
       "    <tr>\n",
       "      <th>2</th>\n",
       "      <td>2024-07-31</td>\n",
       "      <td>112.90</td>\n",
       "      <td>118.34</td>\n",
       "      <td>110.8800</td>\n",
       "      <td>117.02</td>\n",
       "      <td>473174182.0</td>\n",
       "      <td>NVDA</td>\n",
       "    </tr>\n",
       "    <tr>\n",
       "      <th>3</th>\n",
       "      <td>2024-07-30</td>\n",
       "      <td>111.52</td>\n",
       "      <td>111.99</td>\n",
       "      <td>102.5400</td>\n",
       "      <td>103.73</td>\n",
       "      <td>486833274.0</td>\n",
       "      <td>NVDA</td>\n",
       "    </tr>\n",
       "    <tr>\n",
       "      <th>4</th>\n",
       "      <td>2024-07-29</td>\n",
       "      <td>113.69</td>\n",
       "      <td>116.28</td>\n",
       "      <td>111.3000</td>\n",
       "      <td>111.59</td>\n",
       "      <td>248152068.0</td>\n",
       "      <td>NVDA</td>\n",
       "    </tr>\n",
       "    <tr>\n",
       "      <th>...</th>\n",
       "      <td>...</td>\n",
       "      <td>...</td>\n",
       "      <td>...</td>\n",
       "      <td>...</td>\n",
       "      <td>...</td>\n",
       "      <td>...</td>\n",
       "      <td>...</td>\n",
       "    </tr>\n",
       "    <tr>\n",
       "      <th>6223</th>\n",
       "      <td>1999-11-05</td>\n",
       "      <td>30.00</td>\n",
       "      <td>30.25</td>\n",
       "      <td>26.8800</td>\n",
       "      <td>28.25</td>\n",
       "      <td>1284100.0</td>\n",
       "      <td>NVDA</td>\n",
       "    </tr>\n",
       "    <tr>\n",
       "      <th>6224</th>\n",
       "      <td>1999-11-04</td>\n",
       "      <td>27.75</td>\n",
       "      <td>29.94</td>\n",
       "      <td>27.7500</td>\n",
       "      <td>29.19</td>\n",
       "      <td>2625700.0</td>\n",
       "      <td>NVDA</td>\n",
       "    </tr>\n",
       "    <tr>\n",
       "      <th>6225</th>\n",
       "      <td>1999-11-03</td>\n",
       "      <td>26.00</td>\n",
       "      <td>28.13</td>\n",
       "      <td>25.8100</td>\n",
       "      <td>27.44</td>\n",
       "      <td>4191000.0</td>\n",
       "      <td>NVDA</td>\n",
       "    </tr>\n",
       "    <tr>\n",
       "      <th>6226</th>\n",
       "      <td>1999-11-02</td>\n",
       "      <td>23.94</td>\n",
       "      <td>25.13</td>\n",
       "      <td>23.7500</td>\n",
       "      <td>25.00</td>\n",
       "      <td>1744800.0</td>\n",
       "      <td>NVDA</td>\n",
       "    </tr>\n",
       "    <tr>\n",
       "      <th>6227</th>\n",
       "      <td>1999-11-01</td>\n",
       "      <td>21.75</td>\n",
       "      <td>24.38</td>\n",
       "      <td>21.7500</td>\n",
       "      <td>23.50</td>\n",
       "      <td>1630300.0</td>\n",
       "      <td>NVDA</td>\n",
       "    </tr>\n",
       "  </tbody>\n",
       "</table>\n",
       "<p>6228 rows × 7 columns</p>\n",
       "</div>"
      ],
      "text/plain": [
       "            date  1. open  2. high    3. low  4. close    5. volume ticker\n",
       "0     2024-08-02   103.76   108.72  101.3700    107.27  482027464.0   NVDA\n",
       "1     2024-08-01   117.53   120.16  106.8104    109.21  523462326.0   NVDA\n",
       "2     2024-07-31   112.90   118.34  110.8800    117.02  473174182.0   NVDA\n",
       "3     2024-07-30   111.52   111.99  102.5400    103.73  486833274.0   NVDA\n",
       "4     2024-07-29   113.69   116.28  111.3000    111.59  248152068.0   NVDA\n",
       "...          ...      ...      ...       ...       ...          ...    ...\n",
       "6223  1999-11-05    30.00    30.25   26.8800     28.25    1284100.0   NVDA\n",
       "6224  1999-11-04    27.75    29.94   27.7500     29.19    2625700.0   NVDA\n",
       "6225  1999-11-03    26.00    28.13   25.8100     27.44    4191000.0   NVDA\n",
       "6226  1999-11-02    23.94    25.13   23.7500     25.00    1744800.0   NVDA\n",
       "6227  1999-11-01    21.75    24.38   21.7500     23.50    1630300.0   NVDA\n",
       "\n",
       "[6228 rows x 7 columns]"
      ]
     },
     "execution_count": 4,
     "metadata": {},
     "output_type": "execute_result"
    }
   ],
   "source": [
    "nvda_df\n"
   ]
  },
  {
   "cell_type": "code",
   "execution_count": 5,
   "metadata": {},
   "outputs": [
    {
     "name": "stdout",
     "output_type": "stream",
     "text": [
      "Index(['date', 'open', 'high', 'low', 'close', 'volume', 'ticker'], dtype='object')\n"
     ]
    }
   ],
   "source": [
    "# Cleaning up column names for 'nvidia_df'\n",
    "nvda_df.columns = [clean_column_name(col) for col in nvda_df.columns]\n",
    "print(nvda_df.columns)"
   ]
  },
  {
   "cell_type": "code",
   "execution_count": 6,
   "metadata": {},
   "outputs": [],
   "source": [
    "# Converting the \"date\" column to timestamp\n",
    "nvda_df['date'] = pd.to_datetime(nvda_df['date'])"
   ]
  },
  {
   "cell_type": "code",
   "execution_count": 14,
   "metadata": {},
   "outputs": [
    {
     "name": "stdout",
     "output_type": "stream",
     "text": [
      "2024-08-05 20:00:08,343 WARNING: DeprecationWarning: Providing event_time as a single-element list is deprecated and will be dropped in future versions. Provide the feature_name string instead.\n",
      "\n"
     ]
    }
   ],
   "source": [
    "# Defining the stocks feature group\n",
    "nvidia_fg = fs.get_or_create_feature_group(\n",
    "    name=\"nvidia_stock\",\n",
    "    description=\"Nvidia stock dataset from alpha vantage\",\n",
    "    version=1,\n",
    "    primary_key=[\"ticker\"],\n",
    "    event_time=['date'],\n",
    "    online_enabled=False,\n",
    ")"
   ]
  },
  {
   "cell_type": "code",
   "execution_count": 15,
   "metadata": {},
   "outputs": [
    {
     "name": "stdout",
     "output_type": "stream",
     "text": [
      "Feature Group created successfully, explore it at \n",
      "https://c.app.hopsworks.ai:443/p/564374/fs/560197/fg/1072466\n"
     ]
    },
    {
     "data": {
      "application/vnd.jupyter.widget-view+json": {
       "model_id": "9320a28dc045463782695d6f498804dc",
       "version_major": 2,
       "version_minor": 0
      },
      "text/plain": [
       "Uploading Dataframe: 0.00% |          | Rows 0/6228 | Elapsed Time: 00:00 | Remaining Time: ?"
      ]
     },
     "metadata": {},
     "output_type": "display_data"
    },
    {
     "name": "stdout",
     "output_type": "stream",
     "text": [
      "Launching job: nvidia_stock_1_offline_fg_materialization\n",
      "Job started successfully, you can follow the progress at \n",
      "https://c.app.hopsworks.ai/p/564374/jobs/named/nvidia_stock_1_offline_fg_materialization/executions\n"
     ]
    },
    {
     "data": {
      "text/plain": [
       "(<hsfs.core.job.Job at 0x1843feaca10>, None)"
      ]
     },
     "execution_count": 15,
     "metadata": {},
     "output_type": "execute_result"
    }
   ],
   "source": [
    "#Inserting the stock data into the stocks feature group\n",
    "nvidia_fg.insert(nvda_df, write_options={\"wait_for_job\" : False})"
   ]
  },
  {
   "cell_type": "code",
   "execution_count": 16,
   "metadata": {},
   "outputs": [],
   "source": [
    "#Collecting news df\n",
    "news_df = pd.read_csv('news_articles_ema.csv')"
   ]
  },
  {
   "cell_type": "code",
   "execution_count": 17,
   "metadata": {},
   "outputs": [],
   "source": [
    "#Dropping exp mean 7 days\n",
    "news_df_updated = news_df.drop(columns=['exp_mean_7_days'])"
   ]
  },
  {
   "cell_type": "code",
   "execution_count": 18,
   "metadata": {},
   "outputs": [],
   "source": [
    "#Updating date to datetime\n",
    "news_df_updated['date'] = pd.to_datetime(news_df_updated['date'])"
   ]
  },
  {
   "cell_type": "code",
   "execution_count": 20,
   "metadata": {},
   "outputs": [
    {
     "name": "stdout",
     "output_type": "stream",
     "text": [
      "2024-08-05 20:00:43,992 WARNING: DeprecationWarning: Providing event_time as a single-element list is deprecated and will be dropped in future versions. Provide the feature_name string instead.\n",
      "\n"
     ]
    }
   ],
   "source": [
    "#Defining the news feature group\n",
    "news_sentiment_fg = fs.get_or_create_feature_group(\n",
    "    name='news_sentiment_updated',\n",
    "    description='News sentiment from Polygon',\n",
    "    version=1,\n",
    "    primary_key=['ticker'],\n",
    "    event_time=['date'],\n",
    "    online_enabled=False,\n",
    ")"
   ]
  },
  {
   "cell_type": "code",
   "execution_count": 21,
   "metadata": {},
   "outputs": [
    {
     "name": "stdout",
     "output_type": "stream",
     "text": [
      "Feature Group created successfully, explore it at \n",
      "https://c.app.hopsworks.ai:443/p/564374/fs/560197/fg/1073487\n"
     ]
    },
    {
     "data": {
      "application/vnd.jupyter.widget-view+json": {
       "model_id": "364ed5871cab417e9369e64bd93d3f6f",
       "version_major": 2,
       "version_minor": 0
      },
      "text/plain": [
       "Uploading Dataframe: 0.00% |          | Rows 0/66 | Elapsed Time: 00:00 | Remaining Time: ?"
      ]
     },
     "metadata": {},
     "output_type": "display_data"
    },
    {
     "name": "stdout",
     "output_type": "stream",
     "text": [
      "Launching job: news_sentiment_updated_1_offline_fg_materialization\n",
      "Job started successfully, you can follow the progress at \n",
      "https://c.app.hopsworks.ai/p/564374/jobs/named/news_sentiment_updated_1_offline_fg_materialization/executions\n"
     ]
    },
    {
     "data": {
      "text/plain": [
       "(<hsfs.core.job.Job at 0x18440207110>, None)"
      ]
     },
     "execution_count": 21,
     "metadata": {},
     "output_type": "execute_result"
    }
   ],
   "source": [
    "#Inserting the news data into the news feature group\n",
    "news_sentiment_fg.insert(news_df_updated)"
   ]
  }
 ],
 "metadata": {
  "kernelspec": {
   "display_name": "Python 3",
   "language": "python",
   "name": "python3"
  },
  "language_info": {
   "codemirror_mode": {
    "name": "ipython",
    "version": 3
   },
   "file_extension": ".py",
   "mimetype": "text/x-python",
   "name": "python",
   "nbconvert_exporter": "python",
   "pygments_lexer": "ipython3",
   "version": "3.11.9"
  }
 },
 "nbformat": 4,
 "nbformat_minor": 2
}
